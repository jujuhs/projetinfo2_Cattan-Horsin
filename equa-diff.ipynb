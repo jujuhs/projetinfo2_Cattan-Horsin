{
 "cells": [
  {
   "cell_type": "markdown",
   "metadata": {},
   "source": [
    "# Projet Maths-Info 2 Cattan/Horsin"
   ]
  },
  {
   "cell_type": "markdown",
   "metadata": {},
   "source": [
    "# Pas Fixe\n",
    "\n",
    " ## Question 1- Schéma d'Euler explicite"
   ]
  },
  {
   "cell_type": "markdown",
   "metadata": {},
   "source": [
    "On met en place le schéma d'Euler explicite qui est convergent d'ordre 1 : "
   ]
  },
  {
   "cell_type": "code",
   "execution_count": null,
   "metadata": {},
   "outputs": [],
   "source": [
    "import numpy as np\n",
    "import matplotlib.pyplot as plt\n",
    "\n",
    "def solve_euler_explicit(f, x0, dt, tf, t0=0) :\n",
    "    T = [0]\n",
    "    X = [x0]\n",
    "    while T[-1] <= tf :\n",
    "        T = T + [ T[-1] + dt] \n",
    "        X = X + [ X[-1] + dt*f(X[-1]) ]\n",
    "    return T, X "
   ]
  },
  {
   "cell_type": "markdown",
   "metadata": {},
   "source": [
    "On illustre le bon fonctionnement du programme avec une équation différentielle dont on connaît la solution:\n",
    "\n",
    "$\\dot{x}(t) = - x(t)$\n",
    "\n",
    "$x(t_{0})=4$\n",
    "\n",
    "La solution est $g:t\\rightarrow 4*exp( -t) $\n",
    "\n"
   ]
  },
  {
   "cell_type": "code",
   "execution_count": null,
   "metadata": {},
   "outputs": [],
   "source": [
    "import matplotlib.pyplot as plt\n",
    "import numpy as np\n",
    "\n",
    "def g (x) :\n",
    "    return (-x)\n",
    "\n",
    "def fonction_test(t):\n",
    "    return 4*np.exp(-t)\n",
    "\n",
    "temps  = solve_euler_explicit(g,4,0.01,2)[0]\n",
    "sol = solve_euler_explicit(g,4,0.01,2)[1]\n",
    "\n",
    "plt.figure(1)\n",
    "plt.plot (temps,sol, label=\"solution approchée\", color=\"r\")\n",
    "plt.grid()\n",
    "plt.legend()\n",
    "plt.show()\n",
    "\n",
    "\n",
    "vrai_sol = np.vectorize(fonction_test)(temps)\n",
    "\n",
    "\n",
    "plt.figure(2)\n",
    "plt.plot (temps, vrai_sol, label =\"solution exacte\", color=\"b\")\n",
    "plt.grid()\n",
    "plt.legend()\n",
    "plt.show()"
   ]
  },
  {
   "cell_type": "markdown",
   "metadata": {},
   "source": [
    "On ne voit même pas la différence à l'oeil nu !\n",
    "On va mettre en lumière le fait que ce schéma soit convergent d'ordre 1.\n",
    "Pour cela, on choisit arbitrairement quelques pas de temps fixe: \n",
    "pas = [0.0001, 0.001, 0.005, 0.01, 0.05, 0.1]\n",
    "\n",
    "Pour chaque valeur de pas de temps, on déterminer le maximum de l'écart.\n",
    "Puis on trace le maximum de l'écart en fonction de chaque pas de temps:\n"
   ]
  },
  {
   "cell_type": "code",
   "execution_count": null,
   "metadata": {},
   "outputs": [],
   "source": [
    "def convergence_1_euler(dt):\n",
    "    X = solve_euler_explicit(g,4,dt,2)[1]\n",
    "    T = solve_euler_explicit(g,4,dt,2)[0] \n",
    "    r = 0\n",
    "    for k in range (1,len(X)):\n",
    "        s = (abs(X[k]-fonction_test(T[k])))\n",
    "        if  s > r :\n",
    "            r = s \n",
    "    return r\n"
   ]
  },
  {
   "cell_type": "code",
   "execution_count": null,
   "metadata": {},
   "outputs": [],
   "source": [
    "pas = [0.0001, 0.001, 0.005, 0.01, 0.05, 0.1]\n",
    "\n",
    "y1 = [convergence_1_euler(dt) for dt in pas]\n",
    "\n",
    "plt.scatter(pas,y1)\n",
    "plt.plot(pas,y1)\n",
    "plt.xlabel('Pas de temps dt')\n",
    "plt.ylabel(\"Maximum de l'écart\")\n",
    "plt.title(\"Convergence d'ordre 1 pour Euler explicite\")\n",
    "plt.show()"
   ]
  },
  {
   "cell_type": "markdown",
   "metadata": {},
   "source": [
    "On remarque que l'erreur maximale et la valeur du pas de temps ont une relation approximativement linéaire, ce qui confirme que le schéma est bien d'ordre 1."
   ]
  },
  {
   "cell_type": "markdown",
   "metadata": {},
   "source": [
    "## Question 2- Compraison avec un schéma d'ordre 2 (le schéma de Heun)\n",
    "\n",
    "\n",
    "On met en place un schéma d'ordre 2, ici le schéma de Heun : "
   ]
  },
  {
   "cell_type": "code",
   "execution_count": null,
   "metadata": {},
   "outputs": [],
   "source": [
    "def solve_heun(f,x0,dt, xf, ):\n",
    "    T = [0]\n",
    "    X = [x0]\n",
    "    while T[-1] <= 4 :\n",
    "        T = T + [ T[-1] + dt] \n",
    "        X = X + [ X[-1] + 0.5*dt*(f(X[-1])+f(X[-1]+dt*f(X[-1]))) ]\n",
    "    return T, X "
   ]
  },
  {
   "cell_type": "markdown",
   "metadata": {},
   "source": [
    "On illustre le bon fonctionnement du programme avec la même équation différentielle dont on connaît la solution:\n",
    "\n",
    "\n",
    "$\\dot{x}(t) = - x(t)$\n",
    "\n",
    "$x(t_{0})=4$\n",
    "\n",
    "La solution est $g:t\\rightarrow 4*exp( -t) $"
   ]
  },
  {
   "cell_type": "code",
   "execution_count": null,
   "metadata": {},
   "outputs": [],
   "source": [
    "def g (x) :\n",
    "    return (-x)\n",
    "\n",
    "def fonction_test(t):\n",
    "    return 4*np.exp(-t)\n",
    "\n",
    "temps  = solve_heun(g,4,0.01,2)[0]\n",
    "sol = solve_heun(g,4,0.01,2)[1]\n",
    "\n",
    "plt.figure(1)\n",
    "plt.plot (temps,sol, label=\"solution approchée\", color=\"r\")\n",
    "plt.grid()\n",
    "plt.legend()\n",
    "plt.show()\n",
    "\n",
    "\n",
    "vrai_sol = np.vectorize(fonction_test)(temps)\n",
    "\n",
    "\n",
    "plt.figure(2)\n",
    "plt.plot (temps, vrai_sol, label =\"solution exacte\", color=\"b\")\n",
    "plt.grid()\n",
    "plt.legend()\n",
    "plt.show()"
   ]
  },
  {
   "cell_type": "markdown",
   "metadata": {},
   "source": [
    "On va mettre en lumière le fait que ce schéma soit convergent d'ordre 2.\n",
    "Pour cela, on choisit arbitrairement quelques pas de temps fixe: \n",
    "pas = [0.01,0.05,0.,0.5,1]\n",
    "\n",
    "Pour chaque valeur de pas de temps, on déterminer le maximum de l'écart.\n",
    "Puis on trace le maximum de l'écart en fonction de chaque pas de temps élevé au carré (car le schéma est convergent d'ordre 2):\n"
   ]
  },
  {
   "cell_type": "code",
   "execution_count": null,
   "metadata": {},
   "outputs": [],
   "source": [
    "test = np.array([0.001, 0.005, 0.01, 0.05, 0.1,0.2])\n",
    "pas2 = test**2\n",
    "\n",
    "\n",
    "def convergence_2_heun(dt):\n",
    "    X = np.array(solve_heun(g,4,dt,2)[1])\n",
    "    T = np.array(solve_heun(g,4,dt,2)[0]) \n",
    "    S = fonction_test(T)\n",
    "    R = np.abs(X-S)\n",
    "    return max(R)\n",
    "\n",
    "y2 = [convergence_2_heun(dt) for dt in test]\n",
    "\n",
    "plt.scatter(pas2,y2)\n",
    "plt.plot(pas2,y2)\n",
    "plt.xlabel('Pas de temps dt au carré')\n",
    "plt.ylabel(\"Maximum de l'écart\")\n",
    "plt.title(\"Convergence d'ordre 2 pour le schéma de Heun\")\n",
    "plt.show()"
   ]
  },
  {
   "cell_type": "markdown",
   "metadata": {},
   "source": [
    "On remarque ici que l'erreur maximale est proportionelle à la valeur du pas de temps dt élevé au carré. On a donc bien un schéma d'ordre 2. \n",
    "\n",
    "Par rapport au schéma de Euler explicite, on remarque de plus que le coefficient de proportionnalité entre le maximum de l'erreur et l'écart au carré est plus faible que celui qui apparaît dans la convergence du schéma d'ordre 1.\n"
   ]
  },
  {
   "cell_type": "markdown",
   "metadata": {},
   "source": [
    "## Question 3- Démonstration de l'égalité mathématique"
   ]
  },
  {
   "cell_type": "markdown",
   "metadata": {},
   "source": [
    "on suppose que f est   $  C^{1}$.\n",
    "\n",
    "Montrons que :\n",
    "\n",
    "$\\left\\|e^{j+1}\\right\\|=\\Delta t_{j}\\frac{\\left\\|f\\left(t_{j+1}, x^{j+1}\\right)-f\\left(t_{j}, x^{j}\\right)\\right\\|}{2} +O(\\Delta t_{j} ^{3})$\n",
    "\n",
    "On a: \\\n",
    "$ e^{j+1}=\\left(x^{j}+\\int_{t_{j}}^{t_{j+1}} f(s, x(s)) d s\\right)-x^{j+1}$\n",
    "\n",
    "\n",
    "or pour un schéma d'Euler explicite:\n",
    "\n",
    "$x^{j+1}=x^{j}+\\Delta t_{j}f\\left(t_{j},x^{j}\\right)$\n",
    "\n",
    "\n",
    "d'ou:\n",
    "\n",
    "\n",
    "$e^{j+1}= \\int_{t_{j}}^{t_{j+1}}f(s, x(s)) d s-\\Delta t_{j}f\\left(t_{j},x^{j}\\right)$\n",
    "\n",
    "\n",
    "or $ \\dot{x}(t)=f(t,x(t))$\n",
    "\n",
    "\n",
    "$\\Rightarrow e^{j+1}=x\\left(t_{j+1}\\right)-x\\left(t_{j}\\right)-\\Delta t_{j}f\\left(t_{j},x^{j}\\right)$\n",
    "\n",
    "\n",
    "Or comme f est $C^{1}$, on a bien que x est $C^{2}$ d'après l'équation différentielle\n",
    "\n",
    "\n",
    "En faisant un développement de Taylor à l'ordre 2 en $\\Delta t_{j}$:\n",
    "\n",
    "\n",
    "$e^{j+1}=x\\left(t_{j}\\right)+\\Delta t_{j}\\dot{x}(t_{j})+\\frac{(\\Delta t_{j})^{2}}{2}\\ddot{x}\\left(t_{j}\\right)-x\\left(t_{j}\\right)-\\Delta t_{j}f\\left(t_{j},x^{j}\\right)+O(\\Delta t_{j} ^{3}) $\n",
    "\n",
    "$\\Rightarrow e^{j+1}=\\Delta t_{j}\\dot{x}(t_{j})+\\frac{(\\Delta t_{j})^{2}}{2}\\ddot{x}\\left(t_{j}\\right)-\\Delta t_{j}f\\left(t_{j},x^{j}\\right)+O(\\Delta t_{j} ^{3}) $\n",
    "\n",
    "\n",
    "Or comme on s'intéresse à l'erreur locale, $x(t_{j})=x^{j}$\\\n",
    "$\\Rightarrow \\dot{x}(t_{j})=f(t_{j},x(t_{j}))=f(t_{j},x^{j})$\n",
    "\n",
    "$\\Rightarrow e^{j+1}=\\frac{(\\Delta t_{j})^{2}}{2}\\ddot{x}\\left(t_{j}\\right)+ O(\\Delta t_{j} ^{3}) $\n",
    "\n",
    "Or en faisant un développement de Taylor de $f$ à l'ordre 1 :\n",
    "\n",
    "$f\\left(t_{j+1}, x^{j+1}\\right)=f\\left(t_{j}+\\Delta t_{j}, x^{j}+\\Delta t_{j} f\\left(t_{j}, x_{j}\\right)\\right)$\n",
    "\n",
    "\n",
    "$=f\\left(t_{j}, x^{j}\\right)+\\Delta t_{j} \\partial_{t} f\\left(t_{j}, x^{j}\\right)+\\Delta t_{j}f\\left(t_{j}, x^{j}\\right) \\partial_x f\\left(t_{j}, x^{j}\\right)+O(\\Delta t_{j} ^{2})$\n",
    "\n",
    "$=f\\left(t_{j}, x^{j}\\right)+\\Delta t_{j}\\ddot{x}\\left(t_{j}\\right)+ O(\\Delta t_{j} ^{2}) $\n",
    "\n",
    "$\\Rightarrow \\frac{(\\Delta t_{j})^{2}}{2}\\ddot{x}\\left(t_{j}\\right)=(f\\left(t_{j+1}, x^{j+1}\\right)-f\\left(t_{j}, x^{j}\\right))\\frac{(\\Delta t_{j})}{2}+O(\\Delta t_{j} ^{3})$\n",
    "\n",
    "\n",
    "En combinant cela avec l'équation précédente:\n",
    "\n",
    "$e^{j+1}=\\Delta t_{j}\\frac{f\\left(t_{j+1}, x^{j+1}\\right)-f\\left(t_{j}, x^{j}\\right)}{2}+O(\\Delta t_{j} ^{3})$\n",
    "\n",
    "On a le résultat en passant à la norme.\n",
    "\n",
    "\n",
    "\n"
   ]
  },
  {
   "cell_type": "markdown",
   "metadata": {},
   "source": [
    "## Question 4- Nouveau pas de temps"
   ]
  },
  {
   "cell_type": "markdown",
   "metadata": {},
   "source": [
    "$\\textbf{Dans un premier temps, montrons que $e^{j+1}= O(\\Delta t_{j} ^{2})$ }$"
   ]
  },
  {
   "cell_type": "markdown",
   "metadata": {},
   "source": [
    "D'après la question précédente, $\\left\\|e^{j+1}\\right\\|=\\Delta t_{j}\\frac{\\left\\|f\\left(t_{j+1}, x^{j+1}\\right)-f\\left(t_{j}, x^{j}\\right)\\right\\|}{2} +O(\\Delta t_{j} ^{3})$\n",
    "\n",
    "or $f\\left(t_{j+1}, x^{j+1}\\right) = f\\left(t_{j}+ \\Delta t_{j}, x^{j}+\\Delta t_{j}f\\left(t_{j},x^{j}\\right) \\right)$\n",
    "\n",
    "Or comme f est $C^{1}$, on peut donc faire un Dl à l'ordre 1 en $(t_{j},x^{j})$\n",
    "\n",
    "D'ou : \n",
    "\n",
    " $f\\left(t_{j+1}, x^{j+1}\\right) = f\\left(t_{j}, x^{j}\\right) + \\Delta t_{j} \\partial_{t} f\\left(t_{j}, x^{j}\\right)+\\Delta t_{j}f\\left(t_{j}, x^{j}\\right) \\partial_x f\\left(t_{j}, x^{j}\\right) + O(\\Delta t_{j} ^{2})$\n",
    "\n",
    "En injectant cela dans l'équation obtenue à la question précédente:\n",
    "\n",
    "$\\left\\|e^{j+1}\\right\\|=\\Delta t_{j}\\frac{\\left\\| \\Delta t_{j} \\partial_{t} f\\left(t_{j}, x^{j}\\right)+\\Delta t_{j}f\\left(t_{j}, x^{j}\\right) \\partial_x f\\left(t_{j}, x^{j}\\right) + O(\\Delta t_{j} ^{2})\\right\\|}{2} +O(\\Delta t_{j} ^{3})$\n",
    "\n",
    "\n",
    "Puis en factorisant par $\\Delta t_{j}$:\n",
    "\n",
    "\n",
    "$\\left\\|e^{j+1}\\right\\|=\\Delta t_{j}^{2}\\frac{\\left\\| \\partial_{t} f\\left(t_{j}, x^{j}\\right)+\n",
    "f\\left(t_{j}, x^{j}\\right) \\partial_x f\\left(t_{j}, x^{j}\\right) + O(\\Delta t_{j})\\right\\|}{2} +O(\\Delta t_{j} ^{3})$\n",
    "\n",
    "Or $O(\\Delta t_{j} ^{3})$ est bien un $o(\\Delta t_{j} ^{2})$\n",
    "\n",
    "\n",
    "Et pour $ \\left\\| \\partial_{t} f\\left(t_{j}, x^{j}\\right)+ f\\left(t_{j}, x^{j}\\right) \\partial_x f\\left(t_{j}, x^{j}\\right) + O(\\Delta t_{j} ^{2})\\right\\|$ \n",
    ", ce qui est entre la norme tend vers  $ \\partial_{t} f\\left(t_{j}, x^{j}\\right)+ f\\left(t_{j}, x^{j}\\right) \\partial_x f\\left(t_{j}, x^{j}\\right)$ quand $\\Delta t_{j}$ tend vers 0.\n",
    "Ainsi avec le $\\Delta t_{j} ^{2}$ en facteur de la norme, on a bien résultat voulu.\n",
    "\n",
    "\n",
    "\n",
    "\n",
    "\n"
   ]
  },
  {
   "cell_type": "markdown",
   "metadata": {},
   "source": [
    "$\\textbf{ Montrons maintenant que} $ $\\Delta t_{\\text {new }}=\\Delta t \\sqrt {\\frac{T o l_{abs }}{\\left\\|e^{j+1}\\right\\|}}$ $\\textbf{ est un pas de temps approprié pour un algorithme à pas de temps variable.}$"
   ]
  },
  {
   "cell_type": "markdown",
   "metadata": {},
   "source": [
    "L'idée principale de cet algorithme à pas de temps variable est d'améliorer la vitesse d'exécution du programme en augmentant le pas de temps lorsque l'erreur maximale autorisée n'est pas encore atteinte.\n",
    "\n",
    "En effet, on sait que $\\left\\|e^ {j+1}\\right\\| \\leq Tol_{abs}$ et cela implique donc que $\\Delta \\ t_\\text{new} \\geq \\Delta t$.\n",
    "\n",
    "De plus, $ Tol_{abs} $ est l'erreur maximale autorisée. Dans le cas où elle est atteinte ie $\\left\\|e^ {j+1}\\right\\| = Tol_{abs}$ , alors on a $\\Delta \\ t_\\text{new} = \\Delta t$, ce qui correspond à un pas fixe. \n",
    "\n",
    "Le fait que la racine carré soit appropriée s'explique de la manière suivante : on sait que $e^{j+1}= O(\\Delta t_{j} ^{2})$ , c'est-à-dire que $e^{j+1}= f \\Delta t_{j} ^{2} $ avec f bornée et qui ne s'annule pas. De fait, on peut exprimer $\\Delta \\ t_\\text{new}$ de la manière suivante : $\\Delta \\ t_\\text{new} = \\Delta t \\sqrt {\\frac{T o l_{abs }}{f \\Delta t_{j} ^{2}}} = \\sqrt {\\frac{T o l_{abs }}{f}}$. \n",
    "\n",
    "Ainsi $f$ étant bornée et non nulle, on est sûr que $ \\Delta t_\\text{new} $ ne converge ni vers 0 ni ne diverge. \n",
    "\n",
    "$\\textbf{ Pour conclure}$, l'expression $\\Delta t_{\\text {new }}=\\Delta t \\sqrt {\\frac{T o l_{abs }}{\\left\\|e^{j+1}\\right\\|}}$ est appropriée pour ce problème."
   ]
  },
  {
   "cell_type": "markdown",
   "metadata": {},
   "source": [
    "## Question 5 - Algorithme à pas de temps variable"
   ]
  },
  {
   "cell_type": "markdown",
   "metadata": {},
   "source": [
    "Voici l'algorithme à pas de temps variable :  "
   ]
  },
  {
   "cell_type": "code",
   "execution_count": null,
   "metadata": {},
   "outputs": [],
   "source": [
    "from scipy import linalg\n",
    "\n",
    "def solve_ivp_euler_explicit_variable_step(f, t0, x0, t_f, dtmin = 1e-16, dtmax = 0.01, atol = 1e-6):\n",
    "    dt = dtmax/10; # initial integration step\n",
    "    ts, xs = [t0], [x0]  # storage variables\n",
    "    t = t0\n",
    "    ti = 0  # internal time keeping track of time since latest storage point : must remain below dtmax\n",
    "    x = x0\n",
    "    while ts[-1] < t_f:\n",
    "        while ti < dtmax:\n",
    "            t_next, ti_next, x_next = t + dt, ti + dt, x + dt * f(x)\n",
    "            x_back = x_next - dt * f(x_next)\n",
    "            ratio_abs_error = atol / (linalg.norm(x_back-x)/2)\n",
    "            dt = 0.9 * dt * np.sqrt(ratio_abs_error)\n",
    "            if dt < dtmin:\n",
    "                raise ValueError(\"Time step below minimum\")\n",
    "            elif dt > dtmax/2:\n",
    "                dt = dtmax/2\n",
    "            t, ti, x = t_next, ti_next, x_next\n",
    "        dt2DT = dtmax - ti # time left to dtmax\n",
    "        t_next, ti_next, x_next = t + dt2DT, 0, x + dt2DT * f(x)\n",
    "        ts = np.vstack([ts,t_next])\n",
    "        xs = np.vstack([xs,x_next])\n",
    "        t, ti, x = t_next, ti_next, x_next\n",
    "    return (ts, xs)"
   ]
  },
  {
   "cell_type": "markdown",
   "metadata": {},
   "source": [
    "## Explication  du code:\n",
    "\n",
    "L'idée de départ est d'exploiter la formule du pas de temps variable obtenue précédemment.\n",
    "\n",
    "Pour cela, on part de la base du schéma d'Euler. On sépare notre intervalle $[t_{0}, t_{f}]$ en intervalles de longeur $dt_{max}$.\n",
    "\n",
    "Et on va ensuite appliquer la méthode du pas de temps de variable dans chacun de ces intervalles. Mais on ne veut pas avoir trop de valeurs sur l'intervalle $[t_{0}, t_{f}]$. On veut donc faire en sorte d'avoir un valeur de $x^{j}$ tous les dtmax.\n",
    "\n",
    "#### 1er intervalle entre $t_{0}$ et  $t_{0} + dt_{max}$:\n",
    "\n",
    "0n initialise la valeur du pas de temps à $dt=dt_{max}/10$\n",
    "Puis on applique le schéma d'Euler classique entre $t_{0}$ et $t_{0} + dt$\n",
    "\n",
    "Mais d'après la question précédente, on sait lier une valeur optimale du prochain pas de temps avec la norme de l'erreur.\n",
    "\n",
    "${x}$_next correspond à la valeur intermédiaire de la solution, calculée à partir du point intermédiaire précédent, nommé $x$. \n",
    "\n",
    "\n",
    "La partie:\n",
    "\n",
    "$$ {x}_{back} = {x}_{next} - dt * f({x}_{next})$$\n",
    "\n",
    "$$ratioabserror = atol \\frac{(linalg.norm({x}_{back}-x))}{2}$$\n",
    "\n",
    "$$dt = 0.9 * dt * sqrt(ratioabserror)$$\n",
    "\n",
    "permet de définir le nouveau $dt$ (on multiplie par 0.9 pour définir une marge de sécurité).\n",
    "\n",
    "On vérifie que le nouveau pas de temps ne soit pas inférieur à $dt_{min}$, ni supérieur à $dt_{max}/2$ (on veut au moins 2 points).\n",
    "\n",
    "\n",
    "\n"
   ]
  },
  {
   "cell_type": "markdown",
   "metadata": {},
   "source": [
    "\n",
    "$$    $$\n",
    "\n",
    "$$ \\textbf {Illustration du choix du pas de temps} $$ \n",
    "\n",
    "![alt text](schéma1_pmi.jpg \"Illustration du choix du pas de temps\")"
   ]
  },
  {
   "cell_type": "markdown",
   "metadata": {},
   "source": [
    "Puis dès qu'on sort de la sous-boucle, cela signifie que ti est supérieur à dtmax. On a donc dépassé l'intervalle de longeur $dt$.\n",
    "\n",
    "Pour trouver la valeur $x^{1}$ que l'on va attribuer à l'intant $dt_{max}+t_{0}$ , on applique à nouveau un schéma d'Euler explicite entre $t_{i}$ et $dt_{max}$.\n",
    "\n",
    "En notant $dt2DT$ l'écart (négatif) entre $dt_{max}$ et $t_{i}$, on a:\n",
    "\n",
    "$x^{1}= x+dt2DT*f(x) $\n",
    "\n",
    "On attribue ainsi une certaine valeur $x_{1}$, pour le temps $t_{1} = dt_{max}+t_{0}$ (on stocke uniquement cela sur cet intervalle de longeur $dt$.\n",
    "\n"
   ]
  },
  {
   "cell_type": "markdown",
   "metadata": {},
   "source": [
    "$$ $$ \n",
    "$$ \\textbf { Illustration d'une fin de boucle while } $$\n",
    "\n",
    "![alt text](schéma2_pmi.jpg)"
   ]
  },
  {
   "cell_type": "markdown",
   "metadata": {},
   "source": [
    "#### 2ème intervalle entre $t_{0} + dt_{max}$  et  $t_{0} + 2 dt_{max}$:\n",
    "\n",
    "On initialise $t$ à $t_{1}$ (une sorte de varaible de temps globale)\n",
    "\n",
    "Puis on réinitialise $t_{1}$ à 0 pour réapliquer exactement le même procédé à l'intervalle $[t_{0}+dt_{max}, t_{0}+2dt_{max}]$\n",
    "\n",
    "Puis on recommance l'opération jusqu'à arriver à $t_{f}$.\n",
    "\n",
    "\n"
   ]
  },
  {
   "cell_type": "markdown",
   "metadata": {},
   "source": [
    "### Illustration du bon fonctionnement du programme et comparaison avec un programme à pas de temps fixe\n",
    "\n"
   ]
  },
  {
   "cell_type": "markdown",
   "metadata": {},
   "source": [
    "On reprend l'équation différentiel:\n",
    "\n",
    "$\\dot{x}(t) = - x(t)$\n",
    "\n",
    "$x(t_{0})=4$\n",
    "\n",
    "La solution est $g:t\\rightarrow 4*exp( -t) $"
   ]
  },
  {
   "cell_type": "code",
   "execution_count": null,
   "metadata": {},
   "outputs": [],
   "source": [
    "def g (x) :\n",
    "    return (-x)\n",
    "\n",
    "def fonction_test(t):\n",
    "    return 4*np.exp(-t)\n",
    "\n",
    "temps  = solve_ivp_euler_explicit_variable_step(g, 0, 4, 2, dtmin = 1e-16, dtmax = 0.01, atol = 1e-6)[0]\n",
    "sol = solve_ivp_euler_explicit_variable_step(g, 0, 4, 2, dtmin = 1e-16, dtmax = 0.01, atol = 1e-6)[1]\n",
    "\n",
    "plt.figure(1)\n",
    "plt.plot (temps,sol, label=\"solution approchée\", color=\"r\")\n",
    "plt.grid()\n",
    "plt.legend()\n",
    "plt.show()\n",
    "\n",
    "\n",
    "vrai_sol = np.vectorize(fonction_test)(temps)\n",
    "\n",
    "\n",
    "plt.figure(2)\n",
    "plt.plot (temps, vrai_sol, label =\"solution exacte\", color=\"b\")\n",
    "plt.grid()\n",
    "plt.legend()\n",
    "plt.show()"
   ]
  },
  {
   "cell_type": "markdown",
   "metadata": {},
   "source": [
    "###  On va maintenant comparer l'erreur max entre le schéma à pas variable et celui à pas de temps constant"
   ]
  },
  {
   "cell_type": "code",
   "execution_count": null,
   "metadata": {},
   "outputs": [],
   "source": [
    "def diff_convergence(dt):\n",
    "    X = solve_euler_explicit(g,4,dt,2)[1]\n",
    "    T = solve_euler_explicit(g,4,dt,2)[0] \n",
    "    r = 0\n",
    "    for k in range (1,len(X)):\n",
    "        s = (abs(X[k]-fonction_test(T[k])))\n",
    "        if  s > r :\n",
    "            r = s\n",
    "    q=0\n",
    "    Y=solve_ivp_euler_explicit_variable_step(g, 0, 4, 2, dtmin = 1e-16, dtmax = dt, atol = 1e-6)[0]\n",
    "    Z=solve_ivp_euler_explicit_variable_step(g, 0, 4, 2, dtmin = 1e-16, dtmax = dt, atol = 1e-6)[1]\n",
    "    for i in range (1,len(X)):\n",
    "        j = (abs(Z[k]-fonction_test(Y[k])))\n",
    "        if  j > q :\n",
    "            q = j\n",
    "    \n",
    "    return [r,q[0]]\n",
    "\n",
    "résultat = diff_convergence(0.001)\n",
    "\n",
    "print(f'''erreur maximale pour dtmax=0,1\n",
    "      --> pour le schéma à temps fixe {résultat[0]} \n",
    "      --> pour celui à pas de temps variable {résultat[1]}\n",
    "      ''')"
   ]
  }
 ],
 "metadata": {
  "kernelspec": {
   "display_name": "Python 3",
   "language": "python",
   "name": "python3"
  },
  "language_info": {
   "codemirror_mode": {
    "name": "ipython",
    "version": 3
   },
   "file_extension": ".py",
   "mimetype": "text/x-python",
   "name": "python",
   "nbconvert_exporter": "python",
   "pygments_lexer": "ipython3",
   "version": "3.7.3"
  }
 },
 "nbformat": 4,
 "nbformat_minor": 2
}
